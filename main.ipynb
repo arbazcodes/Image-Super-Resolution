{
 "cells": [
  {
   "attachments": {},
   "cell_type": "markdown",
   "id": "dcf3355a-0da6-49cd-943d-3e901d39c8a4",
   "metadata": {},
   "source": [
    "## Import All Libraries For Image Processing"
   ]
  },
  {
   "cell_type": "code",
   "execution_count": 1,
   "id": "9656430d-b3fb-494a-b687-f39f6894a272",
   "metadata": {},
   "outputs": [
    {
     "name": "stderr",
     "output_type": "stream",
     "text": [
      "\n",
      "[notice] A new release of pip available: 22.3.1 -> 23.1.2\n",
      "[notice] To update, run: python.exe -m pip install --upgrade pip\n"
     ]
    },
    {
     "name": "stdout",
     "output_type": "stream",
     "text": [
      "Requirement already satisfied: mtcnn in c:\\users\\dell\\appdata\\local\\programs\\python\\python310\\lib\\site-packages (0.1.1)\n",
      "Requirement already satisfied: opencv-python>=4.1.0 in c:\\users\\dell\\appdata\\local\\programs\\python\\python310\\lib\\site-packages (from mtcnn) (4.6.0.66)\n",
      "Requirement already satisfied: keras>=2.0.0 in c:\\users\\dell\\appdata\\local\\programs\\python\\python310\\lib\\site-packages (from mtcnn) (2.9.0)\n",
      "Requirement already satisfied: numpy>=1.14.5 in c:\\users\\dell\\appdata\\local\\programs\\python\\python310\\lib\\site-packages (from opencv-python>=4.1.0->mtcnn) (1.23.1)\n"
     ]
    }
   ],
   "source": [
    "import numpy as np\n",
    "import matplotlib.pyplot as plt\n",
    "from sklearn.model_selection import train_test_split\n",
    "import os\n",
    "import cv2\n",
    "import numpy as np"
   ]
  },
  {
   "attachments": {},
   "cell_type": "markdown",
   "id": "f16d48d9-ac3e-410f-b669-74474f34a7f5",
   "metadata": {},
   "source": [
    "## Get Folder Names"
   ]
  },
  {
   "cell_type": "code",
   "execution_count": 2,
   "id": "286030d5-1267-42d6-b28d-d18addf7821c",
   "metadata": {},
   "outputs": [
    {
     "name": "stdout",
     "output_type": "stream",
     "text": [
      "['face_ms', 'fake_and_real_beers_ms', 'fake_and_real_food_ms', 'fake_and_real_lemon_slices_ms', 'fake_and_real_lemons_ms', 'fake_and_real_peppers_ms', 'fake_and_real_strawberries_ms', 'fake_and_real_sushi_ms', 'fake_and_real_tomatoes_ms', 'feathers_ms', 'flowers_ms', 'glass_tiles_ms', 'hairs_ms']\n"
     ]
    }
   ],
   "source": [
    "dataset_path = \"./complete_ms_data/\"\n",
    "groundtruth_images = []\n",
    "image_size = 512\n",
    "patch_size = 64\n",
    "stride = 32\n",
    "\n",
    "# Get a list of subfolders in the dataset path\n",
    "subfolders = sorted([f for f in os.listdir(dataset_path) if os.path.isdir(os.path.join(dataset_path, f))])\n",
    "\n",
    "print(subfolders)"
   ]
  },
  {
   "attachments": {},
   "cell_type": "markdown",
   "id": "f2aadaa8-15ea-4433-8c55-ccdab80de268",
   "metadata": {},
   "source": [
    "## Import All Images"
   ]
  },
  {
   "cell_type": "code",
   "execution_count": 3,
   "id": "7c08df5e-599e-4f5a-8c2a-bf10a3d8e33b",
   "metadata": {},
   "outputs": [
    {
     "name": "stdout",
     "output_type": "stream",
     "text": [
      "./complete_ms_data/face_ms\n",
      "./complete_ms_data/fake_and_real_beers_ms\n",
      "./complete_ms_data/fake_and_real_food_ms\n",
      "./complete_ms_data/fake_and_real_lemon_slices_ms\n",
      "./complete_ms_data/fake_and_real_lemons_ms\n",
      "./complete_ms_data/fake_and_real_peppers_ms\n",
      "./complete_ms_data/fake_and_real_strawberries_ms\n",
      "./complete_ms_data/fake_and_real_sushi_ms\n",
      "./complete_ms_data/fake_and_real_tomatoes_ms\n",
      "./complete_ms_data/feathers_ms\n",
      "./complete_ms_data/flowers_ms\n",
      "./complete_ms_data/glass_tiles_ms\n",
      "./complete_ms_data/hairs_ms\n",
      "Ground Truth Hyperspectral Images Shape: (2925, 64, 64, 31)\n"
     ]
    }
   ],
   "source": [
    "# Iterate over each subfolder\n",
    "for subfolder in subfolders:\n",
    "    subfolder_path = os.path.join(dataset_path, subfolder)\n",
    "    print(subfolder_path)\n",
    "\n",
    "    # Stack all the individual images to form a hyperspectral image\n",
    "    hyperspectral_image = np.empty((image_size, image_size, 31), dtype=np.uint8)\n",
    "    i = 0\n",
    "    for filename in sorted(os.listdir(subfolder_path)):\n",
    "        if filename.endswith(\".png\"):\n",
    "            image_file = filename\n",
    "            image_path = os.path.join(subfolder_path, image_file)\n",
    "            image = cv2.imread(image_path, cv2.IMREAD_GRAYSCALE)\n",
    "            hyperspectral_image[:, :, i] = image\n",
    "            i = i + 1\n",
    "            \n",
    "\n",
    "    # Crop the hyperspectral image into smaller patches\n",
    "    for y in range(0, image_size - patch_size + 1, stride):\n",
    "        for x in range(0, image_size - patch_size + 1, stride):\n",
    "            patch = hyperspectral_image[y:y+patch_size, x:x+patch_size, :]\n",
    "\n",
    "\n",
    "            # Append the cropped patch to the groundtruth_images list\n",
    "            groundtruth_images.append(patch)\n",
    "\n",
    "# Convert the list of ground truth patches to a numpy array\n",
    "groundtruth_arrays = np.array(groundtruth_images)\n",
    "\n",
    "# Print the shape of the ground truth hyperspectral images array\n",
    "print(\"Ground Truth Hyperspectral Images Shape:\", groundtruth_arrays.shape)"
   ]
  },
  {
   "attachments": {},
   "cell_type": "markdown",
   "id": "e96316a3-2e75-4454-a4a0-e46c6d73a053",
   "metadata": {},
   "source": [
    "## Obtain A Low Resolution HSI Image of Shape (8,8,31)\n",
    "One will simulate an image with low spatial dimensions and high spectral dimension. You'll obtain this by applying a 8,8 averaging filter on each band of your image of resolution 64,64,31 to obtain an image of resolution of 8,8,31. Let's call this one a low(spatial) resolution HSIimage."
   ]
  },
  {
   "cell_type": "code",
   "execution_count": null,
   "id": "e785c88a-e329-4f92-b210-37755682a5cc",
   "metadata": {},
   "outputs": [],
   "source": [
    "import numpy as np\n",
    "from scipy.ndimage import uniform_filter\n",
    "\n",
    "# Define the size of the averaging filter\n",
    "filter_size = (8, 8)\n",
    "\n",
    "# Apply the averaging filter on each band of the ground truth hyperspectral images\n",
    "lowres_hsi_images = np.zeros((groundtruth_arrays.shape[0], 8, 8, 31))\n",
    "for i in range(groundtruth_arrays.shape[0]):\n",
    "    for j in range(groundtruth_arrays.shape[3]):\n",
    "        band = groundtruth_arrays[i, :, :, j]\n",
    "        lowres_band = uniform_filter(band, size=filter_size)\n",
    "        lowres_hsi_images[i, :, :, j] = lowres_band[::8, ::8]"
   ]
  },
  {
   "cell_type": "code",
   "execution_count": 19,
   "id": "9b436545-18ed-425a-906f-340af0be1832",
   "metadata": {},
   "outputs": [
    {
     "data": {
      "text/plain": [
       "<matplotlib.image.AxesImage at 0x244030c1300>"
      ]
     },
     "execution_count": 19,
     "metadata": {},
     "output_type": "execute_result"
    },
    {
     "data": {
      "image/png": "[encoded data removed]",
      "text/plain": [
       "<Figure size 432x288 with 1 Axes>"
      ]
     },
     "metadata": {
      "needs_background": "light"
     },
     "output_type": "display_data"
    }
   ],
   "source": [
    "plt.imshow(lowres_hsi_images[1][1])"
   ]
  },
  {
   "cell_type": "code",
   "execution_count": null,
   "id": "034cb32d-31b4-483b-905e-ba6073bcf6cc",
   "metadata": {},
   "outputs": [
    {
     "name": "stdout",
     "output_type": "stream",
     "text": [
      "Low-Resolution HSI Images Shape: (2925, 8, 8, 31)\n"
     ]
    }
   ],
   "source": [
    "# Print the shape of the low-resolution HSI images array\n",
    "print(\"Low-Resolution HSI Images Shape:\", lowres_hsi_images.shape)"
   ]
  },
  {
   "attachments": {},
   "cell_type": "markdown",
   "id": "88c56fe5-cc77-40f9-8615-f01a0d740693",
   "metadata": {},
   "source": [
    "## Obtain A High Resolution RGB Image of Shape (64,64,3)\n",
    "You'll basically have three 1x1 filters on this image (one will average the bands 1-10, second will average bands 11-20, and the third will average bands 21-31 in the spectral dimensions)."
   ]
  },
  {
   "cell_type": "code",
   "execution_count": 7,
   "id": "6262054c-4b6d-49c2-8af0-7d9d9136b797",
   "metadata": {},
   "outputs": [],
   "source": [
    "# Apply the 1x1 filters to generate the high-resolution RGB images\n",
    "highres_rgb_images = np.zeros((groundtruth_arrays.shape[0], 64, 64, 3))\n",
    "for i in range(groundtruth_arrays.shape[0]):\n",
    "    for j in range(3):\n",
    "        start_band = j * 10\n",
    "        end_band = (j + 1) * 10\n",
    "        rgb_band_avg = np.mean(groundtruth_arrays[i, :, :, start_band:end_band], axis=-1)\n",
    "        highres_rgb_images[i, :, :, j] = rgb_band_avg"
   ]
  },
  {
   "cell_type": "code",
   "execution_count": 23,
   "id": "1fd61ffa-0b61-4fbc-8085-2eb0e0122606",
   "metadata": {},
   "outputs": [
    {
     "data": {
      "text/plain": [
       "<matplotlib.image.AxesImage at 0x24403221720>"
      ]
     },
     "execution_count": 23,
     "metadata": {},
     "output_type": "execute_result"
    },
    {
     "data": {
      "image/png": "[encoded data removed]",
      "text/plain": [
       "<Figure size 432x288 with 1 Axes>"
      ]
     },
     "metadata": {
      "needs_background": "light"
     },
     "output_type": "display_data"
    }
   ],
   "source": [
    "plt.imshow(highres_rgb_images[1][1])"
   ]
  },
  {
   "cell_type": "code",
   "execution_count": 9,
   "id": "4d89cc63-f337-469c-b451-323e90c1307e",
   "metadata": {},
   "outputs": [
    {
     "name": "stdout",
     "output_type": "stream",
     "text": [
      "High-Resolution RGB Images Shape: (2925, 64, 64, 3)\n"
     ]
    }
   ],
   "source": [
    "# Print the shape of the high-resolution RGB images array\n",
    "print(\"High-Resolution RGB Images Shape:\", highres_rgb_images.shape)"
   ]
  },
  {
   "attachments": {},
   "cell_type": "markdown",
   "id": "64f62ed5-88da-4026-b25b-1128625cf624",
   "metadata": {},
   "source": [
    "## Split Images To Form A Test And Train Set"
   ]
  },
  {
   "cell_type": "code",
   "execution_count": 10,
   "id": "f4f428ef-3096-4a03-9902-83d5346d7b2d",
   "metadata": {},
   "outputs": [],
   "source": [
    "# Split the dataset into training and testing sets\n",
    "train_ratio = 0.8\n",
    "num_samples = groundtruth_arrays.shape[0]\n",
    "num_train_samples = int(train_ratio * num_samples)\n",
    "train_lowres_hsi = lowres_hsi_images[:num_train_samples]\n",
    "train_highres_rgb = highres_rgb_images[:num_train_samples]\n",
    "test_lowres_hsi = lowres_hsi_images[num_train_samples:]\n",
    "test_highres_rgb = highres_rgb_images[num_train_samples:]"
   ]
  },
  {
   "cell_type": "code",
   "execution_count": 11,
   "id": "183591bd-0f59-4be7-b737-989adfb06e42",
   "metadata": {},
   "outputs": [],
   "source": [
    "# Normalize the data (optional but recommended)\n",
    "train_lowres_hsi = train_lowres_hsi / 255.0\n",
    "train_highres_rgb = train_highres_rgb / 255.0\n",
    "test_lowres_hsi = test_lowres_hsi / 255.0\n",
    "test_highres_rgb = test_highres_rgb / 255.0"
   ]
  },
  {
   "cell_type": "code",
   "execution_count": 13,
   "id": "c01bb266-a531-4a7c-8811-ffd831d5c500",
   "metadata": {},
   "outputs": [
    {
     "name": "stdout",
     "output_type": "stream",
     "text": [
      "Model: \"model_1\"\n",
      "__________________________________________________________________________________________________\n",
      " Layer (type)                   Output Shape         Param #     Connected to                     \n",
      "==================================================================================================\n",
      " input_4 (InputLayer)           [(None, 8, 8, 31)]   0           []                               \n",
      "                                                                                                  \n",
      " input_3 (InputLayer)           [(None, 64, 64, 3)]  0           []                               \n",
      "                                                                                                  \n",
      " conv2d_transpose (Conv2DTransp  (None, 64, 64, 31)  61535       ['input_4[0][0]']                \n",
      " ose)                                                                                             \n",
      "                                                                                                  \n",
      " concatenate_1 (Concatenate)    (None, 64, 64, 34)   0           ['input_3[0][0]',                \n",
      "                                                                  'conv2d_transpose[0][0]']       \n",
      "                                                                                                  \n",
      " conv2d_7 (Conv2D)              (None, 64, 64, 64)   19648       ['concatenate_1[0][0]']          \n",
      "                                                                                                  \n",
      " leaky_re_lu (LeakyReLU)        (None, 64, 64, 64)   0           ['conv2d_7[0][0]']               \n",
      "                                                                                                  \n",
      " conv2d_8 (Conv2D)              (None, 64, 64, 128)  73856       ['leaky_re_lu[0][0]']            \n",
      "                                                                                                  \n",
      " leaky_re_lu_1 (LeakyReLU)      (None, 64, 64, 128)  0           ['conv2d_8[0][0]']               \n",
      "                                                                                                  \n",
      " conv2d_9 (Conv2D)              (None, 64, 64, 256)  295168      ['leaky_re_lu_1[0][0]']          \n",
      "                                                                                                  \n",
      " leaky_re_lu_2 (LeakyReLU)      (None, 64, 64, 256)  0           ['conv2d_9[0][0]']               \n",
      "                                                                                                  \n",
      " conv2d_transpose_1 (Conv2DTran  (None, 64, 64, 128)  295040     ['leaky_re_lu_2[0][0]']          \n",
      " spose)                                                                                           \n",
      "                                                                                                  \n",
      " leaky_re_lu_3 (LeakyReLU)      (None, 64, 64, 128)  0           ['conv2d_transpose_1[0][0]']     \n",
      "                                                                                                  \n",
      " conv2d_transpose_2 (Conv2DTran  (None, 64, 64, 64)  73792       ['leaky_re_lu_3[0][0]']          \n",
      " spose)                                                                                           \n",
      "                                                                                                  \n",
      " leaky_re_lu_4 (LeakyReLU)      (None, 64, 64, 64)   0           ['conv2d_transpose_2[0][0]']     \n",
      "                                                                                                  \n",
      " conv2d_10 (Conv2D)             (None, 64, 64, 3)    1731        ['leaky_re_lu_4[0][0]']          \n",
      "                                                                                                  \n",
      "==================================================================================================\n",
      "Total params: 820,770\n",
      "Trainable params: 820,770\n",
      "Non-trainable params: 0\n",
      "__________________________________________________________________________________________________\n",
      "None\n"
     ]
    }
   ],
   "source": [
    "from keras.layers import Input, Concatenate, Conv2D, Conv2DTranspose, BatchNormalization, Activation, LeakyReLU\n",
    "from keras.models import Model\n",
    "\n",
    "def create_super_resolution_model(input_shape_hr, input_shape_lr, output_shape):\n",
    "    # Define high-resolution input layer\n",
    "    hr_input = Input(shape=input_shape_hr)\n",
    "\n",
    "    # Define low-resolution input layer\n",
    "    lr_input = Input(shape=input_shape_lr)\n",
    "\n",
    "    # Upsample the low-resolution input\n",
    "    upsampled_lr = Conv2DTranspose(31, (8, 8), strides=(8, 8), padding='same')(lr_input)\n",
    "\n",
    "    # Concatenate high-resolution and upsampled low-resolution inputs\n",
    "    concat = Concatenate()([hr_input, upsampled_lr])\n",
    "\n",
    "    # Encoder\n",
    "    x = Conv2D(64, (3, 3), strides=1, padding='same')(concat)\n",
    "    x = LeakyReLU(alpha=0.2)(x)\n",
    "    x = Conv2D(128, (3, 3), strides=1, padding='same')(x)\n",
    "    x = LeakyReLU(alpha=0.2)(x)\n",
    "    x = Conv2D(256, (3, 3), strides=1, padding='same')(x)\n",
    "    x = LeakyReLU(alpha=0.2)(x)\n",
    "\n",
    "    # Decoder\n",
    "    x = Conv2DTranspose(128, (3, 3), strides=1, padding='same')(x)\n",
    "    x = LeakyReLU(alpha=0.2)(x)\n",
    "    x = Conv2DTranspose(64, (3, 3), strides=1, padding='same')(x)\n",
    "    x = LeakyReLU(alpha=0.2)(x)\n",
    "    output = Conv2D(3, (3, 3), strides=1, padding='same', activation='sigmoid')(x)\n",
    "\n",
    "    # Create the model\n",
    "    model = Model(inputs=[hr_input, lr_input], outputs=output)\n",
    "    return model\n",
    "\n",
    "# Define input and output shapes\n",
    "input_shape_hr = (64, 64, 3)\n",
    "input_shape_lr = (8, 8, 31)\n",
    "output_shape = (64, 64, 3)\n",
    "\n",
    "# Create model\n",
    "model = create_super_resolution_model(input_shape_hr, input_shape_lr, output_shape)\n",
    "\n",
    "# Print model summary\n",
    "print(model.summary())"
   ]
  },
  {
   "cell_type": "code",
   "execution_count": 14,
   "id": "e846fe37-f4bb-4ac4-8754-c899ec56b1cc",
   "metadata": {},
   "outputs": [
    {
     "name": "stdout",
     "output_type": "stream",
     "text": [
      "Epoch 1/10\n",
      "74/74 [==============================] - 499s 7s/step - loss: 0.0345 - val_loss: 0.0256\n",
      "Epoch 2/10\n",
      "74/74 [==============================] - 343s 5s/step - loss: 0.0268 - val_loss: 0.0256\n",
      "Epoch 3/10\n",
      "74/74 [==============================] - 320s 4s/step - loss: 0.0268 - val_loss: 0.0256\n",
      "Epoch 4/10\n",
      "74/74 [==============================] - 308s 4s/step - loss: 0.0268 - val_loss: 0.0256\n",
      "Epoch 5/10\n",
      "74/74 [==============================] - 311s 4s/step - loss: 0.0268 - val_loss: 0.0256\n",
      "Epoch 6/10\n",
      "74/74 [==============================] - 315s 4s/step - loss: 0.0268 - val_loss: 0.0256\n",
      "Epoch 7/10\n",
      "74/74 [==============================] - 313s 4s/step - loss: 0.0268 - val_loss: 0.0256\n",
      "Epoch 8/10\n",
      "74/74 [==============================] - 300s 4s/step - loss: 0.0268 - val_loss: 0.0256\n",
      "Epoch 9/10\n",
      "74/74 [==============================] - 302s 4s/step - loss: 0.0268 - val_loss: 0.0256\n",
      "Epoch 10/10\n",
      "74/74 [==============================] - 289s 4s/step - loss: 0.0268 - val_loss: 0.0256\n"
     ]
    },
    {
     "data": {
      "text/plain": [
       "<keras.callbacks.History at 0x243ff062aa0>"
      ]
     },
     "execution_count": 14,
     "metadata": {},
     "output_type": "execute_result"
    }
   ],
   "source": [
    "model.compile(optimizer='adam', loss='mse')  # Compile the model with appropriate optimizer and loss function\n",
    "\n",
    "model.fit([train_highres_rgb, train_lowres_hsi], train_highres_rgb, validation_data=([test_highres_rgb, test_lowres_hsi], test_highres_rgb), epochs=10, batch_size=32)"
   ]
  }
 ],
 "metadata": {
  "kernelspec": {
   "display_name": "Python 3 (ipykernel)",
   "language": "python",
   "name": "python3"
  },
  "language_info": {
   "codemirror_mode": {
    "name": "ipython",
    "version": 3
   },
   "file_extension": ".py",
   "mimetype": "text/x-python",
   "name": "python",
   "nbconvert_exporter": "python",
   "pygments_lexer": "ipython3",
   "version": "3.10.5"
  }
 },
 "nbformat": 4,
 "nbformat_minor": 5
}
